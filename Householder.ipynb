{
 "cells": [
  {
   "cell_type": "code",
   "execution_count": 1,
   "id": "82af7856",
   "metadata": {},
   "outputs": [],
   "source": [
    "import numpy as np\n",
    "\n",
    "def house(v):\n",
    "    H = np.eye(len(v))\n",
    "    H -= ((2/(np.linalg.norm(v)*np.linalg.norm(v)))*(np.outer(v,v)))\n",
    "    return H"
   ]
  },
  {
   "cell_type": "code",
   "execution_count": 2,
   "id": "a5d4cd9c",
   "metadata": {},
   "outputs": [
    {
     "name": "stdout",
     "output_type": "stream",
     "text": [
      "v: [-1.  1.  1.  1.]\n",
      "B:\n",
      " [[ 2.  1.  1.]\n",
      " [ 0.  0.  1.]\n",
      " [ 0.  0.  0.]\n",
      " [ 0.  1. -2.]]\n"
     ]
    }
   ],
   "source": [
    "# Part A\n",
    "A = np.array([[1,1,0],\n",
    "              [1,0,2],\n",
    "              [1,0,1],\n",
    "              [1,1,-1]])\n",
    "a = A[:,0]\n",
    "e1 = np.array([1,0,0,0])\n",
    "res = e1 * np.linalg.norm(a)\n",
    "v = a - res\n",
    "\n",
    "print(\"v:\",v)\n",
    "\n",
    "Hv = house(v)\n",
    "B = Hv @ A\n",
    "print(\"B:\\n\",B)"
   ]
  },
  {
   "cell_type": "code",
   "execution_count": 3,
   "id": "58f4a235",
   "metadata": {},
   "outputs": [
    {
     "name": "stdout",
     "output_type": "stream",
     "text": [
      "u: [-1.  0.  1.]\n",
      "C:\n",
      " [[ 2.  1.  1.]\n",
      " [ 0.  1. -2.]\n",
      " [ 0.  0.  0.]\n",
      " [ 0.  0.  1.]]\n"
     ]
    }
   ],
   "source": [
    "# Part B\n",
    "b = B[1:,1]\n",
    "\n",
    "e1 = np.array([1,0,0])\n",
    "res = e1 * np.linalg.norm(b)\n",
    "u = b - res\n",
    "\n",
    "print(\"u:\",u)\n",
    "\n",
    "Hu = house(u)\n",
    "Hu = np.round(Hu, 10)\n",
    "\n",
    "C = np.eye(len(Hu) + 1)\n",
    "C[1:,1:] = Hu\n",
    "Hu1 = C\n",
    "C = C @ B\n",
    "print(\"C:\\n\",C)"
   ]
  },
  {
   "cell_type": "code",
   "execution_count": 4,
   "id": "b97c9eb9",
   "metadata": {},
   "outputs": [
    {
     "name": "stdout",
     "output_type": "stream",
     "text": [
      "w: [-1.  1.]\n",
      "D:\n",
      " [[ 2.  1.  1.]\n",
      " [ 0.  1. -2.]\n",
      " [ 0.  0.  1.]\n",
      " [ 0.  0.  0.]]\n"
     ]
    }
   ],
   "source": [
    "# Part C\n",
    "c = C[2:,2]\n",
    "\n",
    "e1 = np.array([1,0])\n",
    "res = e1 * np.linalg.norm(c)\n",
    "w = c - res\n",
    "\n",
    "print(\"w:\",w)\n",
    "\n",
    "Hw = house(w)\n",
    "Hw = np.round(Hw, 10)\n",
    "\n",
    "D = np.eye(len(Hw) + 2)\n",
    "D[2:,2:] = Hw\n",
    "Hw1 = D\n",
    "D = D @ C\n",
    "print(\"D:\\n\",D)"
   ]
  },
  {
   "cell_type": "code",
   "execution_count": 5,
   "id": "18b8def0",
   "metadata": {},
   "outputs": [
    {
     "name": "stdout",
     "output_type": "stream",
     "text": [
      "A:\n",
      " [[ 1  1  0]\n",
      " [ 1  0  2]\n",
      " [ 1  0  1]\n",
      " [ 1  1 -1]]\n",
      "QR:\n",
      " [[ 1.  1.  0.]\n",
      " [ 1.  0.  2.]\n",
      " [ 1.  0.  1.]\n",
      " [ 1.  1. -1.]]\n",
      "Q:\n",
      " [[ 0.5  0.5  0.5  0.5]\n",
      " [ 0.5 -0.5  0.5 -0.5]\n",
      " [ 0.5 -0.5 -0.5  0.5]\n",
      " [ 0.5  0.5 -0.5 -0.5]]\n",
      "R:\n",
      " [[ 2.  1.  1.]\n",
      " [ 0.  1. -2.]\n",
      " [ 0.  0.  1.]\n",
      " [ 0.  0.  0.]]\n",
      "QR = A? True\n",
      "Is Q orthonormal? True\n",
      "Is R upper triangular? True\n"
     ]
    }
   ],
   "source": [
    "# Part D\n",
    "\n",
    "# Hw1 is Hw but padded with a 2x2 identity matrix to the upper left \n",
    "# with the other entries in the rows and columns being zero\n",
    "# Hu1 is Hu but padded with an upper left 1 and the other entries in \n",
    "# the columns and rows being zero\n",
    "# Hv is just the original Hv matrix\n",
    "\n",
    "R = Hw1 @ Hu1 @ Hv @ A\n",
    "Q = Hw1 @ Hu1 @ Hv\n",
    "Q = np.linalg.inv(Q)\n",
    "\n",
    "print(\"A:\\n\",A)\n",
    "print(\"QR:\\n\", Q @ R)\n",
    "print(\"Q:\\n\",Q)\n",
    "print(\"R:\\n\",R)\n",
    "\n",
    "print(\"QR = A?\", np.allclose(Q @ R, A))\n",
    "print(\"Is Q orthonormal?\",\n",
    "      np.allclose(Q @ Q.T, np.eye(len(Q))))\n",
    "print(\"Is R upper triangular?\",\n",
    "      np.allclose(R, np.triu(R)))"
   ]
  }
 ],
 "metadata": {
  "kernelspec": {
   "display_name": "Python 3 (ipykernel)",
   "language": "python",
   "name": "python3"
  },
  "language_info": {
   "codemirror_mode": {
    "name": "ipython",
    "version": 3
   },
   "file_extension": ".py",
   "mimetype": "text/x-python",
   "name": "python",
   "nbconvert_exporter": "python",
   "pygments_lexer": "ipython3",
   "version": "3.11.5"
  }
 },
 "nbformat": 4,
 "nbformat_minor": 5
}
