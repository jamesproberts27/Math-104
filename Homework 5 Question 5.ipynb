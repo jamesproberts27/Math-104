{
 "cells": [
  {
   "cell_type": "code",
   "execution_count": 1,
   "id": "f178b60e",
   "metadata": {},
   "outputs": [
    {
     "name": "stdout",
     "output_type": "stream",
     "text": [
      "The singular values of A: 1 and 10^-9\n"
     ]
    }
   ],
   "source": [
    "# Part A\n",
    "\n",
    "print(\"The singular values of A: 1 and 10^-9\")"
   ]
  },
  {
   "cell_type": "code",
   "execution_count": 2,
   "id": "4a86bee8",
   "metadata": {},
   "outputs": [
    {
     "name": "stdout",
     "output_type": "stream",
     "text": [
      "Singular values after calling the SVD command: [1.00000000e+00 1.00000015e-09]\n",
      "Very slightly off from the original singular values\n"
     ]
    }
   ],
   "source": [
    "# Part B\n",
    "\n",
    "import numpy as np\n",
    "\n",
    "U = np.array([[(1 / np.sqrt(2)), -(1 / np.sqrt(2))], [(1 / np.sqrt(2)), (1 / np.sqrt(2))]])\n",
    "S = np.array([[1, 0],[0, np.power(0.1, 9)]])\n",
    "V = np.array([[np.sqrt(1/3), np.sqrt(2/3)],[np.sqrt(2/3), -np.sqrt(1/3)]])\n",
    "\n",
    "A = U @ S @ V\n",
    "\n",
    "U1, S1, V1 = np.linalg.svd(A)\n",
    "print(\"Singular values after calling the SVD command:\", S1)\n",
    "print(\"Very slightly off from the original singular values\")"
   ]
  },
  {
   "cell_type": "code",
   "execution_count": 3,
   "id": "29638b99",
   "metadata": {},
   "outputs": [
    {
     "name": "stdout",
     "output_type": "stream",
     "text": [
      "The square roots of the eigenvalues: [0. 1.] \n",
      "The 10^-9 singular value is now 0\n",
      "Highlights the difference within code and the potential for\n",
      "imprecision when working with floating points\n"
     ]
    }
   ],
   "source": [
    "# Part C\n",
    "\n",
    "ATA = A.T @ A\n",
    "\n",
    "e = np.linalg.eigvals(ATA)\n",
    "np.sqrt(e)\n",
    "\n",
    "print(\"The square roots of the eigenvalues:\", np.sqrt(e), \n",
    "      \"\\nThe 10^-9 singular value is now 0\\n\" + \n",
    "      \"Highlights the difference within code and the potential for\" + \n",
    "      \"\\nimprecision when working with floating points\")"
   ]
  }
 ],
 "metadata": {
  "kernelspec": {
   "display_name": "Python 3 (ipykernel)",
   "language": "python",
   "name": "python3"
  },
  "language_info": {
   "codemirror_mode": {
    "name": "ipython",
    "version": 3
   },
   "file_extension": ".py",
   "mimetype": "text/x-python",
   "name": "python",
   "nbconvert_exporter": "python",
   "pygments_lexer": "ipython3",
   "version": "3.11.5"
  }
 },
 "nbformat": 4,
 "nbformat_minor": 5
}
